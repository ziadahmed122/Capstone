{
 "cells": [
  {
   "cell_type": "code",
   "execution_count": 1,
   "metadata": {},
   "outputs": [
    {
     "name": "stdout",
     "output_type": "stream",
     "text": [
      "Please enter the sequance of interestTAACGTTCATCAGCTAACGTAACAGTTAGAGGCTCGNRBCARRGGTCACTAAATCGCACTGTCGGCGTCCCTTGGGTATTTTACGCTAGCATCAGGTAGGCTAGCATGTATC\n"
     ]
    },
    {
     "name": "stderr",
     "output_type": "stream",
     "text": [
      "IOPub data rate exceeded.\n",
      "The notebook server will temporarily stop sending output\n",
      "to the client in order to avoid crashing it.\n",
      "To change this limit, set the config variable\n",
      "`--NotebookApp.iopub_data_rate_limit`.\n",
      "\n",
      "Current values:\n",
      "NotebookApp.iopub_data_rate_limit=1000000.0 (bytes/sec)\n",
      "NotebookApp.rate_limit_window=3.0 (secs)\n",
      "\n"
     ]
    },
    {
     "data": {
      "text/plain": [
       "[['EAR2(NR)/K562-NR2F6-ChIP-Seq(Encode)/Homer', 'NRBCARRGGTCA', 36]]"
      ]
     },
     "execution_count": 1,
     "metadata": {},
     "output_type": "execute_result"
    }
   ],
   "source": [
    "import pandas as pd \n",
    "import biotite.sequence as biotite\n",
    "import Bio as Seq\n",
    "from itertools import product\n",
    "from Bio.Data import IUPACData\n",
    "homer_table=pd.read_csv('Homer')\n",
    "user_input=input('Please enter the sequance of interest')\n",
    "user_input=''.join(user_input.split())\n",
    "main_seq = biotite.NucleotideSequence(user_input)\n",
    "positions=[]\n",
    "def extend_ambiguous_dna(seq):\n",
    "    delimiter = IUPACData.ambiguous_dna_values\n",
    "    try:\n",
    "        return [ list(map(\"\".join, product(*map(delimiter.get, seq)))) ]\n",
    "    except:\n",
    "        pass\n",
    "for i in homer_table.values[1:]:\n",
    "    delimited_data=extend_ambiguous_dna(i[1])\n",
    "    print(delimited_data)\n",
    "    normal=i[1]\n",
    "    if delimited_data != []:\n",
    "        if user_input.find(i[1]) != -1:\n",
    "            positions.append([i[0],i[1],user_input.find(i[1])])\n",
    "    else:\n",
    "        for x in delimited_data:\n",
    "            sub_seq = biotite.NucleotideSequence(x)\n",
    "            try:\n",
    "                if user_input.find(x) != -1:\n",
    "                    positions.append([i[0],x,user_input.find(x)])\n",
    "            except:\n",
    "                pass\n",
    "len(positions)\n",
    "positions\n"
   ]
  },
  {
   "cell_type": "code",
   "execution_count": 60,
   "metadata": {},
   "outputs": [
    {
     "data": {
      "text/html": [
       "<div>\n",
       "<style scoped>\n",
       "    .dataframe tbody tr th:only-of-type {\n",
       "        vertical-align: middle;\n",
       "    }\n",
       "\n",
       "    .dataframe tbody tr th {\n",
       "        vertical-align: top;\n",
       "    }\n",
       "\n",
       "    .dataframe thead th {\n",
       "        text-align: right;\n",
       "    }\n",
       "</style>\n",
       "<table border=\"1\" class=\"dataframe\">\n",
       "  <thead>\n",
       "    <tr style=\"text-align: right;\">\n",
       "      <th></th>\n",
       "      <th>AP-1(bZIP)/ThioMac-PU.1-ChIP-Seq(GSE21512)/Homer</th>\n",
       "      <th>ATGACTCATC</th>\n",
       "    </tr>\n",
       "  </thead>\n",
       "  <tbody>\n",
       "    <tr>\n",
       "      <th>0</th>\n",
       "      <td>AP-2gamma(AP2)/MCF7-TFAP2C-ChIP-Seq(GSE21234)/...</td>\n",
       "      <td>SCCTSAGGSCAW</td>\n",
       "    </tr>\n",
       "    <tr>\n",
       "      <th>1</th>\n",
       "      <td>AP-2alpha(AP2)/Hela-AP2alpha-ChIP-Seq(GSE31477...</td>\n",
       "      <td>ATGCCCTGAGGC</td>\n",
       "    </tr>\n",
       "    <tr>\n",
       "      <th>2</th>\n",
       "      <td>Ap4(bHLH)/AML-Tfap4-ChIP-Seq(GSE45738)/Homer</td>\n",
       "      <td>NAHCAGCTGD</td>\n",
       "    </tr>\n",
       "    <tr>\n",
       "      <th>3</th>\n",
       "      <td>FOXA1:AR(Forkhead,NR)/LNCAP-AR-ChIP-Seq(GSE278...</td>\n",
       "      <td>AGTAAACAAAAAAGAACANN</td>\n",
       "    </tr>\n",
       "    <tr>\n",
       "      <th>4</th>\n",
       "      <td>ARE(NR)/LNCAP-AR-ChIP-Seq(GSE27824)/Homer</td>\n",
       "      <td>AGNACAGNCTGTTCTN</td>\n",
       "    </tr>\n",
       "    <tr>\n",
       "      <th>...</th>\n",
       "      <td>...</td>\n",
       "      <td>...</td>\n",
       "    </tr>\n",
       "    <tr>\n",
       "      <th>428</th>\n",
       "      <td>ZNF692(Zf)/HEK293-ZNF692.GFP-ChIP-Seq(GSE58341...</td>\n",
       "      <td>GTGGGCCCCA</td>\n",
       "    </tr>\n",
       "    <tr>\n",
       "      <th>429</th>\n",
       "      <td>ZNF711(Zf)/SHSY5Y-ZNF711-ChIP-Seq(GSE20673)/Homer</td>\n",
       "      <td>AGGCCTAG</td>\n",
       "    </tr>\n",
       "    <tr>\n",
       "      <th>430</th>\n",
       "      <td>ZNF768(Zf)/Rajj-ZNF768-ChIP-Seq(GSE111879)/Homer</td>\n",
       "      <td>RHHCAGAGAGGB</td>\n",
       "    </tr>\n",
       "    <tr>\n",
       "      <th>431</th>\n",
       "      <td>ZNF7(Zf)/HepG2-ZNF7.Flag-ChIP-Seq(Encode)/Homer\\n</td>\n",
       "      <td>CTGCCWVCTTTTRTA</td>\n",
       "    </tr>\n",
       "    <tr>\n",
       "      <th>432</th>\n",
       "      <td>ZSCAN22(Zf)/HEK293-ZSCAN22.GFP-ChIP-Seq(GSE583...</td>\n",
       "      <td>SMCAGTCWGAKGGAGGAGGC</td>\n",
       "    </tr>\n",
       "  </tbody>\n",
       "</table>\n",
       "<p>433 rows × 2 columns</p>\n",
       "</div>"
      ],
      "text/plain": [
       "      AP-1(bZIP)/ThioMac-PU.1-ChIP-Seq(GSE21512)/Homer            ATGACTCATC\n",
       "0    AP-2gamma(AP2)/MCF7-TFAP2C-ChIP-Seq(GSE21234)/...          SCCTSAGGSCAW\n",
       "1    AP-2alpha(AP2)/Hela-AP2alpha-ChIP-Seq(GSE31477...          ATGCCCTGAGGC\n",
       "2         Ap4(bHLH)/AML-Tfap4-ChIP-Seq(GSE45738)/Homer            NAHCAGCTGD\n",
       "3    FOXA1:AR(Forkhead,NR)/LNCAP-AR-ChIP-Seq(GSE278...  AGTAAACAAAAAAGAACANN\n",
       "4            ARE(NR)/LNCAP-AR-ChIP-Seq(GSE27824)/Homer      AGNACAGNCTGTTCTN\n",
       "..                                                 ...                   ...\n",
       "428  ZNF692(Zf)/HEK293-ZNF692.GFP-ChIP-Seq(GSE58341...            GTGGGCCCCA\n",
       "429  ZNF711(Zf)/SHSY5Y-ZNF711-ChIP-Seq(GSE20673)/Homer              AGGCCTAG\n",
       "430   ZNF768(Zf)/Rajj-ZNF768-ChIP-Seq(GSE111879)/Homer          RHHCAGAGAGGB\n",
       "431  ZNF7(Zf)/HepG2-ZNF7.Flag-ChIP-Seq(Encode)/Homer\\n       CTGCCWVCTTTTRTA\n",
       "432  ZSCAN22(Zf)/HEK293-ZSCAN22.GFP-ChIP-Seq(GSE583...  SMCAGTCWGAKGGAGGAGGC\n",
       "\n",
       "[433 rows x 2 columns]"
      ]
     },
     "execution_count": 60,
     "metadata": {},
     "output_type": "execute_result"
    }
   ],
   "source": [
    "import pandas as pd \n",
    "import Bio as Seq\n",
    "from itertools import product\n",
    "from Bio.Data import IUPACData\n",
    "homer_table=pd.read_csv('Homer')\n",
    "homer_table"
   ]
  },
  {
   "cell_type": "code",
   "execution_count": 32,
   "metadata": {},
   "outputs": [
    {
     "name": "stdout",
     "output_type": "stream",
     "text": [
      "Requirement already satisfied: biopython in c:\\new folder\\lib\\site-packages (1.78)\n",
      "Requirement already satisfied: numpy in c:\\new folder\\lib\\site-packages (from biopython) (1.18.5)\n"
     ]
    }
   ],
   "source": [
    "!pip install biopython\n"
   ]
  },
  {
   "cell_type": "code",
   "execution_count": 91,
   "metadata": {},
   "outputs": [
    {
     "data": {
      "text/plain": [
       "[array(['IVLSRIDERLIHGQVGVQWVGFAGANLVLVANDEVA---EDPVQQNLMEMVLAE-GIAVR'],\n",
       "       dtype=object),\n",
       " array(['FWTLQKVIDNIHRA--ADRQKILLVCKTPADFLTLVKG---GVPVN-RINVGNMHYAN--'],\n",
       "       dtype=object),\n",
       " array(['---GKQQIAKTVSVDAGDIAAFNDLKTAG-VECFVQGVPTEPAVDL'], dtype=object)]"
      ]
     },
     "execution_count": 91,
     "metadata": {},
     "output_type": "execute_result"
    }
   ],
   "source": [
    "import pandas as pd \n",
    "import Bio as Seq\n",
    "from itertools import product\n",
    "from Bio.Data import IUPACData\n",
    "from pandas import DataFrame\n",
    "import numpy as np\n",
    "CD = pd.read_csv('result.txt')\n",
    "CD_list=[[],[]]\n",
    "values = CD.values\n",
    "for i in range(0,len(values)-4):\n",
    "    if (i) % 4 == 0:\n",
    "        val=values[i]\n",
    "        CD_list.append([values[i],[values[i+1],values[i+2],values[i+3]]])\n",
    "CD_df = DataFrame (CD_list,columns=['Name','sequance'])\n",
    "CD_df[\"sequance\"][5]"
   ]
  },
  {
   "cell_type": "code",
   "execution_count": 97,
   "metadata": {},
   "outputs": [
    {
     "ename": "TypeError",
     "evalue": "unhashable type: 'list'",
     "output_type": "error",
     "traceback": [
      "\u001b[1;31m---------------------------------------------------------------------------\u001b[0m",
      "\u001b[1;31mTypeError\u001b[0m                                 Traceback (most recent call last)",
      "\u001b[1;32m<ipython-input-97-0a97fe8367a1>\u001b[0m in \u001b[0;36m<module>\u001b[1;34m\u001b[0m\n\u001b[1;32m----> 1\u001b[1;33m \u001b[1;33m[\u001b[0m\u001b[1;34m'FWTLQKVIDNIHRA--ADRQKILLVCKTPADFLTLVKG---GVPVN-RINVGNMHYAN--'\u001b[0m\u001b[1;33m]\u001b[0m \u001b[1;32min\u001b[0m \u001b[0mCD_df\u001b[0m\u001b[1;33m[\u001b[0m\u001b[1;34m\"sequance\"\u001b[0m\u001b[1;33m]\u001b[0m\u001b[1;33m\u001b[0m\u001b[1;33m\u001b[0m\u001b[0m\n\u001b[0m",
      "\u001b[1;32mC:\\New folder\\lib\\site-packages\\pandas\\core\\generic.py\u001b[0m in \u001b[0;36m__contains__\u001b[1;34m(self, key)\u001b[0m\n\u001b[0;32m   1848\u001b[0m     \u001b[1;32mdef\u001b[0m \u001b[0m__contains__\u001b[0m\u001b[1;33m(\u001b[0m\u001b[0mself\u001b[0m\u001b[1;33m,\u001b[0m \u001b[0mkey\u001b[0m\u001b[1;33m)\u001b[0m \u001b[1;33m->\u001b[0m \u001b[0mbool_t\u001b[0m\u001b[1;33m:\u001b[0m\u001b[1;33m\u001b[0m\u001b[1;33m\u001b[0m\u001b[0m\n\u001b[0;32m   1849\u001b[0m         \u001b[1;34m\"\"\"True if the key is in the info axis\"\"\"\u001b[0m\u001b[1;33m\u001b[0m\u001b[1;33m\u001b[0m\u001b[0m\n\u001b[1;32m-> 1850\u001b[1;33m         \u001b[1;32mreturn\u001b[0m \u001b[0mkey\u001b[0m \u001b[1;32min\u001b[0m \u001b[0mself\u001b[0m\u001b[1;33m.\u001b[0m\u001b[0m_info_axis\u001b[0m\u001b[1;33m\u001b[0m\u001b[1;33m\u001b[0m\u001b[0m\n\u001b[0m\u001b[0;32m   1851\u001b[0m \u001b[1;33m\u001b[0m\u001b[0m\n\u001b[0;32m   1852\u001b[0m     \u001b[1;33m@\u001b[0m\u001b[0mproperty\u001b[0m\u001b[1;33m\u001b[0m\u001b[1;33m\u001b[0m\u001b[0m\n",
      "\u001b[1;32mC:\\New folder\\lib\\site-packages\\pandas\\core\\indexes\\range.py\u001b[0m in \u001b[0;36m__contains__\u001b[1;34m(self, key)\u001b[0m\n\u001b[0;32m    336\u001b[0m \u001b[1;33m\u001b[0m\u001b[0m\n\u001b[0;32m    337\u001b[0m     \u001b[1;32mdef\u001b[0m \u001b[0m__contains__\u001b[0m\u001b[1;33m(\u001b[0m\u001b[0mself\u001b[0m\u001b[1;33m,\u001b[0m \u001b[0mkey\u001b[0m\u001b[1;33m:\u001b[0m \u001b[0mUnion\u001b[0m\u001b[1;33m[\u001b[0m\u001b[0mint\u001b[0m\u001b[1;33m,\u001b[0m \u001b[0mnp\u001b[0m\u001b[1;33m.\u001b[0m\u001b[0minteger\u001b[0m\u001b[1;33m]\u001b[0m\u001b[1;33m)\u001b[0m \u001b[1;33m->\u001b[0m \u001b[0mbool\u001b[0m\u001b[1;33m:\u001b[0m\u001b[1;33m\u001b[0m\u001b[1;33m\u001b[0m\u001b[0m\n\u001b[1;32m--> 338\u001b[1;33m         \u001b[0mhash\u001b[0m\u001b[1;33m(\u001b[0m\u001b[0mkey\u001b[0m\u001b[1;33m)\u001b[0m\u001b[1;33m\u001b[0m\u001b[1;33m\u001b[0m\u001b[0m\n\u001b[0m\u001b[0;32m    339\u001b[0m         \u001b[1;32mtry\u001b[0m\u001b[1;33m:\u001b[0m\u001b[1;33m\u001b[0m\u001b[1;33m\u001b[0m\u001b[0m\n\u001b[0;32m    340\u001b[0m             \u001b[0mkey\u001b[0m \u001b[1;33m=\u001b[0m \u001b[0mensure_python_int\u001b[0m\u001b[1;33m(\u001b[0m\u001b[0mkey\u001b[0m\u001b[1;33m)\u001b[0m\u001b[1;33m\u001b[0m\u001b[1;33m\u001b[0m\u001b[0m\n",
      "\u001b[1;31mTypeError\u001b[0m: unhashable type: 'list'"
     ]
    }
   ],
   "source": [
    "['FWTLQKVIDNIHRA--ADRQKILLVCKTPADFLTLVKG---GVPVN-RINVGNMHYAN--'] in CD_df[\"sequance\"]"
   ]
  },
  {
   "cell_type": "code",
   "execution_count": 60,
   "metadata": {},
   "outputs": [
    {
     "ename": "IndexError",
     "evalue": "index 24289098 is out of bounds for axis 0 with size 24289098",
     "output_type": "error",
     "traceback": [
      "\u001b[1;31m---------------------------------------------------------------------------\u001b[0m",
      "\u001b[1;31mIndexError\u001b[0m                                Traceback (most recent call last)",
      "\u001b[1;32m<ipython-input-60-5c5fabdefcd5>\u001b[0m in \u001b[0;36m<module>\u001b[1;34m\u001b[0m\n\u001b[0;32m     12\u001b[0m         \u001b[0mz1\u001b[0m\u001b[1;33m=\u001b[0m\u001b[1;34m'***'\u001b[0m\u001b[1;33m\u001b[0m\u001b[1;33m\u001b[0m\u001b[0m\n\u001b[0;32m     13\u001b[0m         \u001b[1;32mwhile\u001b[0m \u001b[0mz1\u001b[0m\u001b[1;33m[\u001b[0m\u001b[1;36m0\u001b[0m\u001b[1;33m]\u001b[0m \u001b[1;33m!=\u001b[0m \u001b[1;34m\">\"\u001b[0m\u001b[1;33m:\u001b[0m\u001b[1;33m\u001b[0m\u001b[1;33m\u001b[0m\u001b[0m\n\u001b[1;32m---> 14\u001b[1;33m             \u001b[0my1\u001b[0m\u001b[1;33m=\u001b[0m\u001b[0mdata\u001b[0m\u001b[1;33m[\u001b[0m\u001b[0mi\u001b[0m \u001b[1;33m+\u001b[0m \u001b[0madded\u001b[0m\u001b[1;33m]\u001b[0m\u001b[1;33m\u001b[0m\u001b[1;33m\u001b[0m\u001b[0m\n\u001b[0m\u001b[0;32m     15\u001b[0m             \u001b[0mz1\u001b[0m\u001b[1;33m=\u001b[0m\u001b[0mstr\u001b[0m\u001b[1;33m(\u001b[0m\u001b[0my1\u001b[0m\u001b[1;33m[\u001b[0m\u001b[1;36m0\u001b[0m\u001b[1;33m]\u001b[0m\u001b[1;33m)\u001b[0m\u001b[1;33m\u001b[0m\u001b[1;33m\u001b[0m\u001b[0m\n\u001b[0;32m     16\u001b[0m             \u001b[0mcd_transation\u001b[0m\u001b[1;33m.\u001b[0m\u001b[0mappend\u001b[0m\u001b[1;33m(\u001b[0m\u001b[0mz1\u001b[0m\u001b[1;33m)\u001b[0m\u001b[1;33m\u001b[0m\u001b[1;33m\u001b[0m\u001b[0m\n",
      "\u001b[1;31mIndexError\u001b[0m: index 24289098 is out of bounds for axis 0 with size 24289098"
     ]
    }
   ],
   "source": [
    "import pandas as pd\n",
    "from pandas import DataFrame\n",
    "CDD = pd.read_csv('result.txt')\n",
    "CDD_list=[]\n",
    "data=CDD.values\n",
    "for i in range(0,len(data)-1):\n",
    "    y= data[i]\n",
    "    z=str(y[0])\n",
    "    if str(z[0]) == \">\":\n",
    "        added= 1\n",
    "        cd_transation = []\n",
    "        z1='***'\n",
    "        while z1[0] != \">\":\n",
    "            y1=data[i + added]\n",
    "            z1=str(y1[0])\n",
    "            cd_transation.append(z1)\n",
    "            added=added+1\n",
    "        CDD_list.append([z,cd_transation[:-1]])\n",
    "CDD_df = DataFrame (CDD_list,columns=['Name','sequance'])\n",
    "CDD_df"
   ]
  },
  {
   "cell_type": "code",
   "execution_count": 61,
   "metadata": {
    "scrolled": true
   },
   "outputs": [
    {
     "data": {
      "text/html": [
       "<div>\n",
       "<style scoped>\n",
       "    .dataframe tbody tr th:only-of-type {\n",
       "        vertical-align: middle;\n",
       "    }\n",
       "\n",
       "    .dataframe tbody tr th {\n",
       "        vertical-align: top;\n",
       "    }\n",
       "\n",
       "    .dataframe thead th {\n",
       "        text-align: right;\n",
       "    }\n",
       "</style>\n",
       "<table border=\"1\" class=\"dataframe\">\n",
       "  <thead>\n",
       "    <tr style=\"text-align: right;\">\n",
       "      <th></th>\n",
       "      <th>Name</th>\n",
       "      <th>sequance</th>\n",
       "    </tr>\n",
       "  </thead>\n",
       "  <tbody>\n",
       "    <tr>\n",
       "      <th>0</th>\n",
       "      <td>&gt;gi|2554671|pdb|1BLE|</td>\n",
       "      <td>[IVLARIDDRFIHGQILTRWIKVHAADRIIVVSDDIA---QDEMRK...</td>\n",
       "    </tr>\n",
       "    <tr>\n",
       "      <th>1</th>\n",
       "      <td>&gt;gi|548632</td>\n",
       "      <td>[ITLARIDDRLIHGQVTTVWSKVANAQRIIICNDDVF---NDEVRR...</td>\n",
       "    </tr>\n",
       "    <tr>\n",
       "      <th>2</th>\n",
       "      <td>&gt;gi|1172736</td>\n",
       "      <td>[IVLSRIDERLIHGQVGVQWVGFAGANLVLVANDEVA---EDPVQQ...</td>\n",
       "    </tr>\n",
       "    <tr>\n",
       "      <th>3</th>\n",
       "      <td>&gt;gi|1142714</td>\n",
       "      <td>[IQLARIDDRFIHGQVLTKWVKQTPIDRIIIVSDGVA---EDEMRK...</td>\n",
       "    </tr>\n",
       "    <tr>\n",
       "      <th>4</th>\n",
       "      <td>&gt;gi|548622</td>\n",
       "      <td>[IGLARIDDRLIHGQVATRWTKETNVSRIIVVSDEVA---ADTVRK...</td>\n",
       "    </tr>\n",
       "    <tr>\n",
       "      <th>...</th>\n",
       "      <td>...</td>\n",
       "      <td>...</td>\n",
       "    </tr>\n",
       "    <tr>\n",
       "      <th>3341516</th>\n",
       "      <td>&gt;gi|42492775|emb|CAE77370.1|</td>\n",
       "      <td>[MNEFNLAKDKTMISKIFKKIPWFYHLIFFLIGLVVGLLFQFLRVK...</td>\n",
       "    </tr>\n",
       "    <tr>\n",
       "      <th>3341517</th>\n",
       "      <td>&gt;lcl|consensus</td>\n",
       "      <td>[MALIEELDQQGNFLFRWRSYIPGFILLLSLYYLPYYQFLQGSYES...</td>\n",
       "    </tr>\n",
       "    <tr>\n",
       "      <th>3341518</th>\n",
       "      <td>&gt;gi|505585136|ref|WP_015677711.1|</td>\n",
       "      <td>[MALIEELNQQGNFLFRWRSYIPGVILFLSLLYLPYVPFFQGNYMS...</td>\n",
       "    </tr>\n",
       "    <tr>\n",
       "      <th>3341519</th>\n",
       "      <td>&gt;gi|495868449|ref|WP_008593028.1|</td>\n",
       "      <td>[MALIEELDQQGNFLFRWRSYIPGFILLLCLYSLSKFEFLEDSYEI...</td>\n",
       "    </tr>\n",
       "    <tr>\n",
       "      <th>3341520</th>\n",
       "      <td>&gt;gi|498255408|ref|WP_010569564.1|</td>\n",
       "      <td>[MALIEELDKQGIFLFRWRSYIPGFILLLSLYALKDYQFLNGSYET...</td>\n",
       "    </tr>\n",
       "  </tbody>\n",
       "</table>\n",
       "<p>3341521 rows × 2 columns</p>\n",
       "</div>"
      ],
      "text/plain": [
       "                                      Name  \\\n",
       "0                   >gi|2554671|pdb|1BLE|    \n",
       "1                               >gi|548632   \n",
       "2                              >gi|1172736   \n",
       "3                              >gi|1142714   \n",
       "4                               >gi|548622   \n",
       "...                                    ...   \n",
       "3341516       >gi|42492775|emb|CAE77370.1|   \n",
       "3341517                     >lcl|consensus   \n",
       "3341518  >gi|505585136|ref|WP_015677711.1|   \n",
       "3341519  >gi|495868449|ref|WP_008593028.1|   \n",
       "3341520  >gi|498255408|ref|WP_010569564.1|   \n",
       "\n",
       "                                                  sequance  \n",
       "0        [IVLARIDDRFIHGQILTRWIKVHAADRIIVVSDDIA---QDEMRK...  \n",
       "1        [ITLARIDDRLIHGQVTTVWSKVANAQRIIICNDDVF---NDEVRR...  \n",
       "2        [IVLSRIDERLIHGQVGVQWVGFAGANLVLVANDEVA---EDPVQQ...  \n",
       "3        [IQLARIDDRFIHGQVLTKWVKQTPIDRIIIVSDGVA---EDEMRK...  \n",
       "4        [IGLARIDDRLIHGQVATRWTKETNVSRIIVVSDEVA---ADTVRK...  \n",
       "...                                                    ...  \n",
       "3341516  [MNEFNLAKDKTMISKIFKKIPWFYHLIFFLIGLVVGLLFQFLRVK...  \n",
       "3341517  [MALIEELDQQGNFLFRWRSYIPGFILLLSLYYLPYYQFLQGSYES...  \n",
       "3341518  [MALIEELNQQGNFLFRWRSYIPGVILFLSLLYLPYVPFFQGNYMS...  \n",
       "3341519  [MALIEELDQQGNFLFRWRSYIPGFILLLCLYSLSKFEFLEDSYEI...  \n",
       "3341520  [MALIEELDKQGIFLFRWRSYIPGFILLLSLYALKDYQFLNGSYET...  \n",
       "\n",
       "[3341521 rows x 2 columns]"
      ]
     },
     "execution_count": 61,
     "metadata": {},
     "output_type": "execute_result"
    }
   ],
   "source": [
    "CDD_df = DataFrame (CDD_list,columns=['Name','sequance'])\n",
    "CDD_df"
   ]
  },
  {
   "cell_type": "code",
   "execution_count": null,
   "metadata": {},
   "outputs": [],
   "source": [
    "\n",
    "CDD_df.to_csv('CDD_output.csv',index = False, header=True)  "
   ]
  },
  {
   "cell_type": "code",
   "execution_count": 56,
   "metadata": {},
   "outputs": [
    {
     "ename": "IndexError",
     "evalue": "index 24289098 is out of bounds for axis 0 with size 24289098",
     "output_type": "error",
     "traceback": [
      "\u001b[1;31m---------------------------------------------------------------------------\u001b[0m",
      "\u001b[1;31mIndexError\u001b[0m                                Traceback (most recent call last)",
      "\u001b[1;32m<ipython-input-56-1bcbc4e9bad6>\u001b[0m in \u001b[0;36m<module>\u001b[1;34m\u001b[0m\n\u001b[0;32m      9\u001b[0m         \u001b[0mz1\u001b[0m\u001b[1;33m=\u001b[0m\u001b[1;34m'***'\u001b[0m\u001b[1;33m\u001b[0m\u001b[1;33m\u001b[0m\u001b[0m\n\u001b[0;32m     10\u001b[0m         \u001b[1;32mwhile\u001b[0m \u001b[0mz1\u001b[0m\u001b[1;33m[\u001b[0m\u001b[1;36m0\u001b[0m\u001b[1;33m]\u001b[0m \u001b[1;33m!=\u001b[0m \u001b[1;34m\">\"\u001b[0m\u001b[1;33m:\u001b[0m\u001b[1;33m\u001b[0m\u001b[1;33m\u001b[0m\u001b[0m\n\u001b[1;32m---> 11\u001b[1;33m             \u001b[0my1\u001b[0m\u001b[1;33m=\u001b[0m\u001b[0mdata\u001b[0m\u001b[1;33m[\u001b[0m\u001b[0mi\u001b[0m \u001b[1;33m+\u001b[0m \u001b[0madded\u001b[0m\u001b[1;33m]\u001b[0m\u001b[1;33m\u001b[0m\u001b[1;33m\u001b[0m\u001b[0m\n\u001b[0m\u001b[0;32m     12\u001b[0m             \u001b[0mz1\u001b[0m\u001b[1;33m=\u001b[0m\u001b[0mstr\u001b[0m\u001b[1;33m(\u001b[0m\u001b[0my1\u001b[0m\u001b[1;33m[\u001b[0m\u001b[1;36m0\u001b[0m\u001b[1;33m]\u001b[0m\u001b[1;33m)\u001b[0m\u001b[1;33m\u001b[0m\u001b[1;33m\u001b[0m\u001b[0m\n\u001b[0;32m     13\u001b[0m             \u001b[0mcd_transation\u001b[0m\u001b[1;33m.\u001b[0m\u001b[0mappend\u001b[0m\u001b[1;33m(\u001b[0m\u001b[0mz1\u001b[0m\u001b[1;33m)\u001b[0m\u001b[1;33m\u001b[0m\u001b[1;33m\u001b[0m\u001b[0m\n",
      "\u001b[1;31mIndexError\u001b[0m: index 24289098 is out of bounds for axis 0 with size 24289098"
     ]
    }
   ],
   "source": [
    "CDD_list=[]\n",
    "data=CD.values\n",
    "for i in range(0,len(data)-1):\n",
    "    y= data[i]\n",
    "    z=str(y[0])\n",
    "    if str(z[0]) == \">\":\n",
    "        added= 1\n",
    "        cd_transation = []\n",
    "        z1='***'\n",
    "        while z1[0] != \">\":\n",
    "            y1=data[i + added]\n",
    "            z1=str(y1[0])\n",
    "            cd_transation.append(z1)\n",
    "            added=added+1\n",
    "        CDD_list.append([z,cd_transation[:-1]])"
   ]
  },
  {
   "cell_type": "code",
   "execution_count": 59,
   "metadata": {
    "scrolled": true
   },
   "outputs": [
    {
     "data": {
      "text/html": [
       "<div>\n",
       "<style scoped>\n",
       "    .dataframe tbody tr th:only-of-type {\n",
       "        vertical-align: middle;\n",
       "    }\n",
       "\n",
       "    .dataframe tbody tr th {\n",
       "        vertical-align: top;\n",
       "    }\n",
       "\n",
       "    .dataframe thead th {\n",
       "        text-align: right;\n",
       "    }\n",
       "</style>\n",
       "<table border=\"1\" class=\"dataframe\">\n",
       "  <thead>\n",
       "    <tr style=\"text-align: right;\">\n",
       "      <th></th>\n",
       "      <th>Name</th>\n",
       "      <th>sequance</th>\n",
       "    </tr>\n",
       "  </thead>\n",
       "  <tbody>\n",
       "    <tr>\n",
       "      <th>0</th>\n",
       "      <td>&gt;gi|2554671|pdb|1BLE|</td>\n",
       "      <td>[IVLARIDDRFIHGQILTRWIKVHAADRIIVVSDDIA---QDEMRK...</td>\n",
       "    </tr>\n",
       "    <tr>\n",
       "      <th>1</th>\n",
       "      <td>&gt;gi|548632</td>\n",
       "      <td>[ITLARIDDRLIHGQVTTVWSKVANAQRIIICNDDVF---NDEVRR...</td>\n",
       "    </tr>\n",
       "    <tr>\n",
       "      <th>2</th>\n",
       "      <td>&gt;gi|1172736</td>\n",
       "      <td>[IVLSRIDERLIHGQVGVQWVGFAGANLVLVANDEVA---EDPVQQ...</td>\n",
       "    </tr>\n",
       "    <tr>\n",
       "      <th>3</th>\n",
       "      <td>&gt;gi|1142714</td>\n",
       "      <td>[IQLARIDDRFIHGQVLTKWVKQTPIDRIIIVSDGVA---EDEMRK...</td>\n",
       "    </tr>\n",
       "    <tr>\n",
       "      <th>4</th>\n",
       "      <td>&gt;gi|548622</td>\n",
       "      <td>[IGLARIDDRLIHGQVATRWTKETNVSRIIVVSDEVA---ADTVRK...</td>\n",
       "    </tr>\n",
       "    <tr>\n",
       "      <th>...</th>\n",
       "      <td>...</td>\n",
       "      <td>...</td>\n",
       "    </tr>\n",
       "    <tr>\n",
       "      <th>3341516</th>\n",
       "      <td>&gt;gi|42492775|emb|CAE77370.1|</td>\n",
       "      <td>[MNEFNLAKDKTMISKIFKKIPWFYHLIFFLIGLVVGLLFQFLRVK...</td>\n",
       "    </tr>\n",
       "    <tr>\n",
       "      <th>3341517</th>\n",
       "      <td>&gt;lcl|consensus</td>\n",
       "      <td>[MALIEELDQQGNFLFRWRSYIPGFILLLSLYYLPYYQFLQGSYES...</td>\n",
       "    </tr>\n",
       "    <tr>\n",
       "      <th>3341518</th>\n",
       "      <td>&gt;gi|505585136|ref|WP_015677711.1|</td>\n",
       "      <td>[MALIEELNQQGNFLFRWRSYIPGVILFLSLLYLPYVPFFQGNYMS...</td>\n",
       "    </tr>\n",
       "    <tr>\n",
       "      <th>3341519</th>\n",
       "      <td>&gt;gi|495868449|ref|WP_008593028.1|</td>\n",
       "      <td>[MALIEELDQQGNFLFRWRSYIPGFILLLCLYSLSKFEFLEDSYEI...</td>\n",
       "    </tr>\n",
       "    <tr>\n",
       "      <th>3341520</th>\n",
       "      <td>&gt;gi|498255408|ref|WP_010569564.1|</td>\n",
       "      <td>[MALIEELDKQGIFLFRWRSYIPGFILLLSLYALKDYQFLNGSYET...</td>\n",
       "    </tr>\n",
       "  </tbody>\n",
       "</table>\n",
       "<p>3341521 rows × 2 columns</p>\n",
       "</div>"
      ],
      "text/plain": [
       "                                      Name  \\\n",
       "0                   >gi|2554671|pdb|1BLE|    \n",
       "1                               >gi|548632   \n",
       "2                              >gi|1172736   \n",
       "3                              >gi|1142714   \n",
       "4                               >gi|548622   \n",
       "...                                    ...   \n",
       "3341516       >gi|42492775|emb|CAE77370.1|   \n",
       "3341517                     >lcl|consensus   \n",
       "3341518  >gi|505585136|ref|WP_015677711.1|   \n",
       "3341519  >gi|495868449|ref|WP_008593028.1|   \n",
       "3341520  >gi|498255408|ref|WP_010569564.1|   \n",
       "\n",
       "                                                  sequance  \n",
       "0        [IVLARIDDRFIHGQILTRWIKVHAADRIIVVSDDIA---QDEMRK...  \n",
       "1        [ITLARIDDRLIHGQVTTVWSKVANAQRIIICNDDVF---NDEVRR...  \n",
       "2        [IVLSRIDERLIHGQVGVQWVGFAGANLVLVANDEVA---EDPVQQ...  \n",
       "3        [IQLARIDDRFIHGQVLTKWVKQTPIDRIIIVSDGVA---EDEMRK...  \n",
       "4        [IGLARIDDRLIHGQVATRWTKETNVSRIIVVSDEVA---ADTVRK...  \n",
       "...                                                    ...  \n",
       "3341516  [MNEFNLAKDKTMISKIFKKIPWFYHLIFFLIGLVVGLLFQFLRVK...  \n",
       "3341517  [MALIEELDQQGNFLFRWRSYIPGFILLLSLYYLPYYQFLQGSYES...  \n",
       "3341518  [MALIEELNQQGNFLFRWRSYIPGVILFLSLLYLPYVPFFQGNYMS...  \n",
       "3341519  [MALIEELDQQGNFLFRWRSYIPGFILLLCLYSLSKFEFLEDSYEI...  \n",
       "3341520  [MALIEELDKQGIFLFRWRSYIPGFILLLSLYALKDYQFLNGSYET...  \n",
       "\n",
       "[3341521 rows x 2 columns]"
      ]
     },
     "execution_count": 59,
     "metadata": {},
     "output_type": "execute_result"
    }
   ],
   "source": [
    "from pandas import DataFrame\n",
    "CD_list[0]\n",
    "CD_df = DataFrame (CD_list,columns=['Name','sequance'])\n",
    "CD_df"
   ]
  },
  {
   "cell_type": "code",
   "execution_count": 52,
   "metadata": {},
   "outputs": [
    {
     "name": "stdout",
     "output_type": "stream",
     "text": [
      "IVLARIDDRLIHGQVATTWTKELNANRIIVVNDEVA---NDELRKTLLKLAAPP-GVKLR\n",
      "IFTVEKAIEAINSPK-YDKQRVFLLFKNPQDVLRLVEG---GVPIK-TINVGNMAFRP--\n",
      "---GKVQITKAVSLDEEDVAAFKELAQKG-VKVEIQMVPNDKKVDL\n",
      ">gi|2554671|pdb|1BLE| \n",
      "IVLARIDDRFIHGQILTRWIKVHAADRIIVVSDDIA---QDEMRKTLILSVAPS-NVKAS\n",
      "AVSVSKMAKAFHSPR-YEGVTAMLLFENPSDIVSLIEA---GVPIK-TVNVGGMRFEN--\n",
      "---HRRQITKSVSVTEQDIKAFETLSDKG-VKLELRQLPSDASEDF\n",
      ">gi|548632\n",
      "ITLARIDDRLIHGQVTTVWSKVANAQRIIICNDDVF---NDEVRRTLLRQAAPP-GMKVN\n",
      "VVSLEKAVAVYHNPQ-YQDETVFYLFTNPHDVLTMVRQ---GVQIA-TLNIGGMAWRP--\n"
     ]
    }
   ],
   "source": [
    "CD_list=[]\n",
    "data=CD.values\n",
    "for i in range(0,10):\n",
    "    y= data[i]\n",
    "    z=str(y[0])\n",
    "    print(z)\n",
    "    if str(z[0]) == \">\":\n",
    "        added= 1\n",
    "        cd_transation = []\n",
    "        z1='***'\n",
    "        while z1[0] != \">\":\n",
    "            y1=data[i + added]\n",
    "            z1=str(y1[0])\n",
    "            cd_transation.append(z1)\n",
    "            added=added+1\n",
    "        CD_list.append([z,cd_transation[:-1]])"
   ]
  },
  {
   "cell_type": "code",
   "execution_count": 53,
   "metadata": {},
   "outputs": [
    {
     "data": {
      "text/plain": [
       "[['>gi|2554671|pdb|1BLE| ',\n",
       "  ['IVLARIDDRFIHGQILTRWIKVHAADRIIVVSDDIA---QDEMRKTLILSVAPS-NVKAS',\n",
       "   'AVSVSKMAKAFHSPR-YEGVTAMLLFENPSDIVSLIEA---GVPIK-TVNVGGMRFEN--',\n",
       "   '---HRRQITKSVSVTEQDIKAFETLSDKG-VKLELRQLPSDASEDF']],\n",
       " ['>gi|548632',\n",
       "  ['ITLARIDDRLIHGQVTTVWSKVANAQRIIICNDDVF---NDEVRRTLLRQAAPP-GMKVN',\n",
       "   'VVSLEKAVAVYHNPQ-YQDETVFYLFTNPHDVLTMVRQ---GVQIA-TLNIGGMAWRP--',\n",
       "   '---GKKQLTKAVSLDPQDIQAFRELDKLG-VKLDLRVVASDPSVNI']]]"
      ]
     },
     "execution_count": 53,
     "metadata": {},
     "output_type": "execute_result"
    }
   ],
   "source": [
    "CD_list"
   ]
  },
  {
   "cell_type": "code",
   "execution_count": null,
   "metadata": {},
   "outputs": [],
   "source": []
  }
 ],
 "metadata": {
  "kernelspec": {
   "display_name": "Python 3",
   "language": "python",
   "name": "python3"
  },
  "language_info": {
   "codemirror_mode": {
    "name": "ipython",
    "version": 3
   },
   "file_extension": ".py",
   "mimetype": "text/x-python",
   "name": "python",
   "nbconvert_exporter": "python",
   "pygments_lexer": "ipython3",
   "version": "3.8.3"
  }
 },
 "nbformat": 4,
 "nbformat_minor": 4
}
